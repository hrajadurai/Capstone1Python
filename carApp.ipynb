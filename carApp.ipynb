{
 "cells": [
  {
   "cell_type": "code",
   "execution_count": 2,
   "id": "f95e3851-3294-40cf-948b-2f456c131a68",
   "metadata": {},
   "outputs": [
    {
     "name": "stdout",
     "output_type": "stream",
     "text": [
      "*** Car Rental Project ***\n",
      "-----------------------------------\n",
      " Welcome To Car Rental Application \n",
      "-----------------------------------\n",
      "1. Car availability \n",
      "2. Rental modes\n",
      "3. Returning the rental\n",
      "-----------------------------------\n"
     ]
    },
    {
     "name": "stdin",
     "output_type": "stream",
     "text": [
      "Give your choice:  1\n"
     ]
    },
    {
     "name": "stdout",
     "output_type": "stream",
     "text": [
      "Inside InvDisplay ... \n",
      "1 2023 VIN1 Yes 24\n",
      "2 2024 VIN2 Yes 24\n",
      "3 2024 VIN3 Yes 24\n",
      "4 2024 VIN4 Yes 24\n",
      "-----------------------------------\n",
      " Welcome To Car Rental Application \n",
      "-----------------------------------\n",
      "1. Car availability \n",
      "2. Rental modes\n",
      "3. Returning the rental\n",
      "-----------------------------------\n"
     ]
    },
    {
     "name": "stdin",
     "output_type": "stream",
     "text": [
      "Give your choice:  2\n"
     ]
    },
    {
     "name": "stdout",
     "output_type": "stream",
     "text": [
      " Mode Selection \n",
      "-----------------------------------\n",
      "1. Hourly \n",
      "2. Daily \n",
      "3. Weekly \n",
      "-----------------------------------\n"
     ]
    },
    {
     "name": "stdin",
     "output_type": "stream",
     "text": [
      "carId :  2\n",
      "mode :  daily\n",
      "cust_name :  Venkat\n",
      "address :  Pittsburgh\n",
      "num_of_cars :  1\n"
     ]
    },
    {
     "name": "stdout",
     "output_type": "stream",
     "text": [
      "jzgS2OinxQ\n",
      "date and time = 14/04/2024 14:33:55\n",
      "y  2024\n",
      "m  04\n",
      "d  14\n",
      "H  14\n",
      "M  33\n",
      "S  55\n",
      "1713119635\n",
      "OrderList :  [{'jzgS2OinxQ': {'carId': 2, 'cusName': 'Venkat', 'address': 'Pittsburgh', 'Mode': 'daily', 'NoOfDay': 1, 'rentTime': 1713119635}}]\n",
      "Key: jzgS2OinxQ\n",
      "Value: {'carId': 2, 'cusName': 'Venkat', 'address': 'Pittsburgh', 'Mode': 'daily', 'NoOfDay': 1, 'rentTime': 1713119635}\n",
      " OBJECT : 1 2023 VIN1 Yes 24\n",
      " OBJECT : 2 2024 VIN2 Yes 24\n",
      " OBJECT : 3 2024 VIN3 Yes 24\n",
      " OBJECT : 4 2024 VIN4 Yes 24\n",
      "1 2023 VIN1 Yes 24\n",
      "2 2024 VIN2 No 24\n",
      "3 2024 VIN3 Yes 24\n",
      "4 2024 VIN4 Yes 24\n",
      "{'jzgS2OinxQ': {'carId': 2, 'cusName': 'Venkat', 'address': 'Pittsburgh', 'Mode': 'daily', 'NoOfDay': 1, 'rentTime': 1713119635}}\n",
      "-----------------------------------\n",
      " Welcome To Car Rental Application \n",
      "-----------------------------------\n",
      "1. Car availability \n",
      "2. Rental modes\n",
      "3. Returning the rental\n",
      "-----------------------------------\n"
     ]
    },
    {
     "name": "stdin",
     "output_type": "stream",
     "text": [
      "Give your choice:  1\n"
     ]
    },
    {
     "name": "stdout",
     "output_type": "stream",
     "text": [
      "Inside InvDisplay ... \n",
      "1 2023 VIN1 Yes 24\n",
      "3 2024 VIN3 Yes 24\n",
      "4 2024 VIN4 Yes 24\n",
      "-----------------------------------\n",
      " Welcome To Car Rental Application \n",
      "-----------------------------------\n",
      "1. Car availability \n",
      "2. Rental modes\n",
      "3. Returning the rental\n",
      "-----------------------------------\n"
     ]
    },
    {
     "name": "stdin",
     "output_type": "stream",
     "text": [
      "Give your choice:  3\n"
     ]
    },
    {
     "name": "stdout",
     "output_type": "stream",
     "text": [
      "--------- Return Car ---------- \n",
      "Inside return Car\n",
      "date and time = 14/04/2024 14:34:06\n",
      "1713119646\n",
      "jzgS2OinxQ: {'carId': 2, 'cusName': 'Venkat', 'address': 'Pittsburgh', 'Mode': 'daily', 'NoOfDay': 1, 'rentTime': 1713119635}\n",
      " OBJECT : 1 2023 VIN1 Yes 24\n",
      " OBJECT : 2 2024 VIN2 No 24\n",
      " OBJECT : 3 2024 VIN3 Yes 24\n",
      " OBJECT : 4 2024 VIN4 Yes 24\n",
      "-----------------------------------\n",
      " Welcome To Car Rental Application \n",
      "-----------------------------------\n",
      "1. Car availability \n",
      "2. Rental modes\n",
      "3. Returning the rental\n",
      "-----------------------------------\n"
     ]
    },
    {
     "name": "stdin",
     "output_type": "stream",
     "text": [
      "Give your choice:  0\n"
     ]
    },
    {
     "name": "stdout",
     "output_type": "stream",
     "text": [
      "Thank you for using this programme.\n"
     ]
    }
   ],
   "source": [
    "import carRent\n",
    "\n",
    "print(\"*** Car Rental Project ***\")\n",
    "\n",
    "def main():\n",
    " inv = carRent.RentalCar()\n",
    " inv.carInv(1,\"2023\",\"VIN1\",\"Yes\",24)\n",
    " inv.carInv(2,\"2024\",\"VIN2\",\"Yes\",24)\n",
    " inv.carInv(3,\"2024\",\"VIN3\",\"Yes\",24)\n",
    " inv.carInv(4,\"2024\",\"VIN4\",\"Yes\",24)\n",
    "\n",
    " while (True):\n",
    "    print (35 * '-')\n",
    "    print (\" Welcome To Car Rental Application \")\n",
    "    print (35 * '-')\n",
    "    print (\"1. Car availability \")\n",
    "    print (\"2. Rental modes\")\n",
    "    print (\"3. Returning the rental\")\n",
    "    print (35 * '-')\n",
    "    choice = input(\"Give your choice: \")\n",
    "    if choice == \"1\":\n",
    "        inv.Invdisplay()\n",
    "        inv.getInvCt\n",
    "    elif choice == \"2\":\n",
    "        print(\" Mode Selection \")\n",
    "        print (35 * '-')\n",
    "        print (\"1. Hourly \")\n",
    "        print (\"2. Daily \")\n",
    "        print (\"3. Weekly \")\n",
    "        print (35 * '-')\n",
    "        carId = input(\"carId : \")\n",
    "        mode = input(\"mode : \")\n",
    "        cust_name = input(\"cust_name : \")\n",
    "        address = input(\"address : \")\n",
    "        num_of_cars = input(\"num_of_cars : \")\n",
    "        inv.rentCar(int(carId),cust_name,address,mode,int(num_of_cars))       \n",
    "    elif choice == \"3\":\n",
    "        print(\"--------- Return Car ---------- \")\n",
    "        carId = input(\"carId : \")\n",
    "        inv.returnCar(int(carId))\n",
    "    elif choice == \"0\":\n",
    "        print(\"Thank you for using this programme.\")\n",
    "        break\n",
    "    else:\n",
    "        print(\"No choice made\")\n",
    "\n",
    "if __name__ == \"__main__\":\n",
    "    main()\n",
    "    \n",
    "           "
   ]
  },
  {
   "cell_type": "code",
   "execution_count": null,
   "id": "ef654cc9-1c27-4b46-9645-2d0c3d1e4f74",
   "metadata": {},
   "outputs": [],
   "source": []
  },
  {
   "cell_type": "code",
   "execution_count": null,
   "id": "78625763-6c53-4955-89d4-ab9c8750087c",
   "metadata": {},
   "outputs": [],
   "source": []
  }
 ],
 "metadata": {
  "kernelspec": {
   "display_name": "Python 3 (ipykernel)",
   "language": "python",
   "name": "python3"
  },
  "language_info": {
   "codemirror_mode": {
    "name": "ipython",
    "version": 3
   },
   "file_extension": ".py",
   "mimetype": "text/x-python",
   "name": "python",
   "nbconvert_exporter": "python",
   "pygments_lexer": "ipython3",
   "version": "3.11.7"
  }
 },
 "nbformat": 4,
 "nbformat_minor": 5
}
